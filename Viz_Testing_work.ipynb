{
 "cells": [
  {
   "cell_type": "markdown",
   "metadata": {},
   "source": [
    "testing jupyter notebook from vscode"
   ]
  },
  {
   "cell_type": "code",
   "execution_count": null,
   "metadata": {},
   "outputs": [],
   "source": [
    "# imports\n",
    "import sys,os\n",
    "import pandas as pd\n",
    "import requests\n",
    "import altair as alt\n",
    "from altair.expr import datum\n",
    "from jupyter_datatables import init_datatables_mode\n"
   ]
  },
  {
   "cell_type": "code",
   "execution_count": null,
   "metadata": {},
   "outputs": [],
   "source": [
    "print(f'Your Altair Version: {alt.__version__}')\n",
    "print(f'Your Pandas Version: {pd.__version__}')\n",
    "print(f'Using Virtualenv: {os.getenv(\"VIRTUAL_ENV\")}')\n",
    "print(f'With Python Executable: {sys.executable}')\n",
    "print(f'And Python Version: {sys.version}')"
   ]
  },
  {
   "cell_type": "code",
   "execution_count": null,
   "metadata": {},
   "outputs": [],
   "source": [
    "alt.renderers.enable('default')\n",
    "init_datatables_mode()"
   ]
  },
  {
   "cell_type": "code",
   "execution_count": null,
   "metadata": {},
   "outputs": [],
   "source": [
    "# set up alphavantage api stuff\n",
    "# symbol = input()\n",
    "api_key = 'LAJBI8EN52GC18OY'\n",
    "base_url = 'https://www.alphavantage.co/query?'\n",
    "params = {'function': 'TIME_SERIES_DAILY_ADJUSTED',\n",
    "          'symbol': 'CYDY',\n",
    "          'apikey': api_key}"
   ]
  },
  {
   "cell_type": "code",
   "execution_count": null,
   "metadata": {},
   "outputs": [],
   "source": [
    "# get response from api and format it a bit and put it into a dict\n",
    "# this helps with the mulit level nested json by 'stripping' metadata header info\n",
    "response = requests.get(base_url, params=params)\n",
    "response_dict = response.json()\n",
    "_, header = response.json()"
   ]
  },
  {
   "cell_type": "code",
   "execution_count": null,
   "metadata": {},
   "outputs": [],
   "source": [
    "# create a pandas dataframe from response_dict\n",
    "df = pd.DataFrame.from_dict(response_dict[header], orient='index')\n",
    "# strip the cols names down to bare bones header\n",
    "df_cols = [i.split(' ')[1] for i in df.columns]\n",
    "df.columns = df_cols"
   ]
  },
  {
   "cell_type": "code",
   "execution_count": null,
   "metadata": {},
   "outputs": [],
   "source": [
    "df['date'] = df.index"
   ]
  },
  {
   "cell_type": "code",
   "execution_count": null,
   "metadata": {
    "require": [
     "base/js/events",
     "datatables.net",
     "d3",
     "chartjs",
     "dt-config",
     "dt-components",
     "dt-graph-objects",
     "dt-toolbar",
     "dt-tooltips",
     "jupyter-datatables"
    ]
   },
   "outputs": [],
   "source": [
    "df"
   ]
  },
  {
   "cell_type": "code",
   "execution_count": null,
   "metadata": {},
   "outputs": [],
   "source": [
    "#this saves a new df with a new index 01234 etc not the date string.\n",
    "df1 = df.reset_index(drop=True)"
   ]
  },
  {
   "cell_type": "code",
   "execution_count": null,
   "metadata": {
    "require": [
     "base/js/events",
     "datatables.net",
     "d3",
     "chartjs",
     "dt-config",
     "dt-components",
     "dt-graph-objects",
     "dt-toolbar",
     "dt-tooltips",
     "jupyter-datatables"
    ]
   },
   "outputs": [],
   "source": [
    "df1"
   ]
  },
  {
   "cell_type": "code",
   "execution_count": null,
   "metadata": {},
   "outputs": [],
   "source": [
    "#this works now with all cols as 'objects'. no need to convert 'date' col to datetime in pandas\n",
    "chart = alt.Chart(df1).mark_circle(size=50).encode(\n",
    "    x='date:T',\n",
    "    y='open:Q',    \n",
    "    tooltip=['open','close','high','low']\n",
    ").properties(width=900).interactive()\n"
   ]
  },
  {
   "cell_type": "code",
   "execution_count": null,
   "metadata": {},
   "outputs": [],
   "source": [
    "chart"
   ]
  },
  {
   "cell_type": "code",
   "execution_count": null,
   "metadata": {},
   "outputs": [],
   "source": [
    "chart = alt.Chart(df1).mark_line(point=True,color='orange',strokeDash=[5,2],).encode(\n",
    "    x='date:T',\n",
    "    y='open:Q',    \n",
    "    tooltip=['open']\n",
    ").properties(width=900).interactive()\n",
    "chart"
   ]
  },
  {
   "cell_type": "code",
   "execution_count": null,
   "metadata": {},
   "outputs": [],
   "source": [
    "open = alt.Chart(df1).mark_line().encode(\n",
    "    x='date:T',\n",
    "    y='open:Q',    \n",
    "    tooltip=['open']\n",
    ").interactive()\n",
    "\n",
    "close = alt.Chart(df1).mark_point().encode(\n",
    "    x='date:T',\n",
    "    y='close:Q',    \n",
    "    tooltip=['close']    \n",
    ").properties(width=900).interactive()\n",
    "\n",
    "open.mark_line(point=True,strokeDash=[6,2],color='orange') + close.mark_line(point=True,strokeDash=[4,1],color='blue') "
   ]
  },
  {
   "cell_type": "code",
   "execution_count": null,
   "metadata": {},
   "outputs": [],
   "source": [
    "line = alt.Chart(df1).mark_line(        \n",
    "    color='orange',\n",
    "    strokeWidth=2,\n",
    "    strokeDash=[10,5],\n",
    "    strokeCap='square'\n",
    ").transform_window(\n",
    "    rolling_mean='mean(open)',\n",
    "    frame=[-15, 15]\n",
    ").encode(    \n",
    "    x='date:T',\n",
    "    y='rolling_mean:Q'\n",
    ")\n",
    "\n",
    "points = alt.Chart(df1).mark_point(shape='diamond',size= 60, fontStyle='italic', color='purple').encode(    \n",
    "    tooltip=['open','close'],\n",
    "    x='date:T',\n",
    "    y=alt.Y('open:Q',\n",
    "            axis=alt.Axis(title='Open Price'))\n",
    ").properties(width=900).interactive()\n",
    "\n",
    "points + line"
   ]
  },
  {
   "cell_type": "code",
   "execution_count": null,
   "metadata": {},
   "outputs": [],
   "source": [
    "# chart different columns from the same df\n",
    "base = alt.Chart(df.reset_index()).encode(x='date:T')\n",
    "\n",
    "alt.layer(\n",
    "    base.mark_line(color='blue').encode(y='open:Q', tooltip=['open']),\n",
    "    base.mark_line(color='orange').encode(y='close:Q', tooltip=['close'])\n",
    ").properties(width=900).interactive()"
   ]
  },
  {
   "cell_type": "code",
   "execution_count": null,
   "metadata": {
    "require": [
     "base/js/events",
     "datatables.net",
     "d3",
     "chartjs",
     "dt-config",
     "dt-components",
     "dt-graph-objects",
     "dt-toolbar",
     "dt-tooltips",
     "jupyter-datatables"
    ]
   },
   "outputs": [],
   "source": [
    "# notice the new index field and 'date' field\n",
    "meltData = df.drop(columns=['adjusted','split','dividend','volume','date'])"
   ]
  },
  {
   "cell_type": "code",
   "execution_count": null,
   "metadata": {},
   "outputs": [],
   "source": [
    "# waht does pandas 'melt' do?....these cells below show how to set up a melt table so as to get to chart in cell #82\n",
    "meltData.index.name=('date')"
   ]
  },
  {
   "cell_type": "code",
   "execution_count": null,
   "metadata": {
    "require": [
     "base/js/events",
     "datatables.net",
     "d3",
     "chartjs",
     "dt-config",
     "dt-components",
     "dt-graph-objects",
     "dt-toolbar",
     "dt-tooltips",
     "jupyter-datatables"
    ]
   },
   "outputs": [],
   "source": [
    "meltData"
   ]
  },
  {
   "cell_type": "code",
   "execution_count": null,
   "metadata": {
    "require": [
     "base/js/events",
     "datatables.net",
     "d3",
     "chartjs",
     "dt-config",
     "dt-components",
     "dt-graph-objects",
     "dt-toolbar",
     "dt-tooltips",
     "jupyter-datatables"
    ]
   },
   "outputs": [],
   "source": [
    "myData = meltData.reset_index().melt('date')\n",
    "myData"
   ]
  },
  {
   "cell_type": "code",
   "execution_count": null,
   "metadata": {},
   "outputs": [],
   "source": [
    "alt.Chart(myData).mark_line().encode(\n",
    "    x='date:T',\n",
    "    y='value:Q',\n",
    "    color='variable:N'\n",
    ").properties(width=900).interactive()"
   ]
  },
  {
   "cell_type": "code",
   "execution_count": null,
   "metadata": {},
   "outputs": [],
   "source": [
    "# grab the 2 cols you want to get the difference for...\n",
    "df_difs = df1[['open','close']]"
   ]
  },
  {
   "cell_type": "code",
   "execution_count": null,
   "metadata": {},
   "outputs": [],
   "source": [
    "# grab the other 2 cols you want to get the difference from...\n",
    "df_hilo_Diff = df1[['high', 'low']]"
   ]
  },
  {
   "cell_type": "code",
   "execution_count": null,
   "metadata": {
    "require": [
     "base/js/events",
     "datatables.net",
     "d3",
     "chartjs",
     "dt-config",
     "dt-components",
     "dt-graph-objects",
     "dt-toolbar",
     "dt-tooltips",
     "jupyter-datatables"
    ]
   },
   "outputs": [],
   "source": [
    "df_difs"
   ]
  },
  {
   "cell_type": "code",
   "execution_count": null,
   "metadata": {
    "require": [
     "base/js/events",
     "datatables.net",
     "d3",
     "chartjs",
     "dt-config",
     "dt-components",
     "dt-graph-objects",
     "dt-toolbar",
     "dt-tooltips",
     "jupyter-datatables"
    ]
   },
   "outputs": [],
   "source": [
    "df_hilo_Diff"
   ]
  },
  {
   "cell_type": "code",
   "execution_count": null,
   "metadata": {},
   "outputs": [],
   "source": [
    "# this is computing the difference between 'open' and 'close' and 'high' and 'low' putting result in the 'close' col or the 'low' after converting from object to numeric(float64). # otherwise math won't work\n",
    "df_difs = df_difs[['open', 'close']].apply(pd.to_numeric).diff(axis=1)\n",
    "df_hilo_Diff = df_hilo_Diff[['high', 'low']].apply(pd.to_numeric).diff(axis=1)"
   ]
  },
  {
   "cell_type": "code",
   "execution_count": null,
   "metadata": {},
   "outputs": [],
   "source": [
    "df_diff = df_difs['close']"
   ]
  },
  {
   "cell_type": "code",
   "execution_count": null,
   "metadata": {},
   "outputs": [],
   "source": [
    "df_hilo_Diffs = df_hilo_Diff['low']"
   ]
  },
  {
   "cell_type": "code",
   "execution_count": null,
   "metadata": {},
   "outputs": [],
   "source": [
    "df_date = df1['date']"
   ]
  },
  {
   "cell_type": "code",
   "execution_count": null,
   "metadata": {},
   "outputs": [],
   "source": [
    "df_date"
   ]
  },
  {
   "cell_type": "code",
   "execution_count": null,
   "metadata": {},
   "outputs": [],
   "source": [
    "df_diff"
   ]
  },
  {
   "cell_type": "code",
   "execution_count": null,
   "metadata": {},
   "outputs": [],
   "source": [
    "df_hilo_Diffs"
   ]
  },
  {
   "cell_type": "code",
   "execution_count": null,
   "metadata": {},
   "outputs": [],
   "source": [
    "# put the above created pandas series(df_date, df_diff) into a pandas datatframe called posneg\n",
    "df_posneg = pd.DataFrame(dict(date = df_date, diff = df_diff))"
   ]
  },
  {
   "cell_type": "code",
   "execution_count": null,
   "metadata": {},
   "outputs": [],
   "source": [
    "df_hilo = pd.DataFrame(dict(date = df_date, diff = df_hilo_Diffs))"
   ]
  },
  {
   "cell_type": "code",
   "execution_count": null,
   "metadata": {
    "require": [
     "base/js/events",
     "datatables.net",
     "d3",
     "chartjs",
     "dt-config",
     "dt-components",
     "dt-graph-objects",
     "dt-toolbar",
     "dt-tooltips",
     "jupyter-datatables"
    ]
   },
   "outputs": [],
   "source": [
    "df_posneg"
   ]
  },
  {
   "cell_type": "code",
   "execution_count": null,
   "metadata": {
    "require": [
     "base/js/events",
     "datatables.net",
     "d3",
     "chartjs",
     "dt-config",
     "dt-components",
     "dt-graph-objects",
     "dt-toolbar",
     "dt-tooltips",
     "jupyter-datatables"
    ]
   },
   "outputs": [],
   "source": [
    "df_hilo"
   ]
  },
  {
   "cell_type": "code",
   "execution_count": null,
   "metadata": {},
   "outputs": [],
   "source": [
    "\n",
    "\n",
    "chart2 = alt.Chart(df_posneg).mark_bar().encode(\n",
    "    x=\"date:T\",\n",
    "    y=alt.Y('diff:Q', axis=alt.Axis(format='$', title='Change in $')),\n",
    "    tooltip=['diff:Q','date:T'],\n",
    "    color=alt.condition(\n",
    "        alt.datum.diff > 0,\n",
    "        alt.value(\"black\"),  # The positive color\n",
    "        alt.value(\"red\")  # The negative color\n",
    "    )).properties(width=900,height=600,title='Net Difference Daily Open/Close').interactive()\n",
    "chart2"
   ]
  },
  {
   "cell_type": "code",
   "execution_count": null,
   "metadata": {},
   "outputs": [],
   "source": [
    "chart2.configure_title(\n",
    "    fontSize=20,\n",
    "    font='Palatino Linotype',\n",
    "    fontStyle='italic',\n",
    "    anchor='start',\n",
    "    color='steelblue'\n",
    ")"
   ]
  },
  {
   "cell_type": "code",
   "execution_count": null,
   "metadata": {},
   "outputs": [],
   "source": [
    "chart3 = alt.Chart(df_hilo).mark_bar().encode(\n",
    "    x=\"date:T\",\n",
    "    y=\"diff:Q\",\n",
    "    tooltip=['diff','date:T'],\n",
    "    color=alt.condition(\n",
    "        alt.datum.diff > 0,\n",
    "        alt.value(\"steelblue\"),  # The positive color\n",
    "        alt.value(\"darkgreen\")  # The negative color\n",
    "    )\n",
    ").properties(width=900, title='Net diff of Daily Hi/Lo').interactive()\n",
    "chart3.configure_title(\n",
    "    fontSize=20,\n",
    "    font='Palatino Linotype',\n",
    "    fontStyle='italic',\n",
    "    anchor='start',\n",
    "    color='steelblue'\n",
    ")"
   ]
  },
  {
   "cell_type": "code",
   "execution_count": null,
   "metadata": {},
   "outputs": [],
   "source": [
    "# Making the area graph   \n",
    "chart4 = alt.Chart(df_hilo).mark_area(color = 'green', \n",
    "                           opacity = 0.5, \n",
    "                           line = {'color':'darkgreen'}).encode( \n",
    "      \n",
    "  # Map the date to x-axis \n",
    "    x = 'date:T', \n",
    "      \n",
    "  # Map the price to y-axis \n",
    "    y = 'diff:Q'\n",
    ").properties(width=900, title='yo').interactive()\n",
    "chart4"
   ]
  },
  {
   "cell_type": "code",
   "execution_count": null,
   "metadata": {},
   "outputs": [],
   "source": [
    "# Making the area graph   \n",
    "chart5 = alt.Chart(myData).mark_area(color = 'green', \n",
    "                           opacity = 0.5, \n",
    "                           line = {'color':'darkgreen'}).encode( \n",
    "      \n",
    "  x='date:T',\n",
    "    y='value:Q',\n",
    "    color='variable:N'\n",
    ").properties(width=875, title='yo').interactive()\n",
    "chart5"
   ]
  },
  {
   "cell_type": "code",
   "execution_count": null,
   "metadata": {},
   "outputs": [],
   "source": []
  }
 ],
 "metadata": {
  "kernelspec": {
   "display_name": "Python 3",
   "language": "python",
   "name": "python3"
  },
  "language_info": {
   "codemirror_mode": {
    "name": "ipython",
    "version": 3
   },
   "file_extension": ".py",
   "mimetype": "text/x-python",
   "name": "python",
   "nbconvert_exporter": "python",
   "pygments_lexer": "ipython3",
   "version": "3.7.9"
  },
  "require": {
   "paths": {
    "buttons.colvis": "https://cdn.datatables.net/buttons/1.5.6/js/buttons.colVis.min",
    "buttons.flash": "https://cdn.datatables.net/buttons/1.5.6/js/buttons.flash.min",
    "buttons.html5": "https://cdn.datatables.net/buttons/1.5.6/js/buttons.html5.min",
    "buttons.print": "https://cdn.datatables.net/buttons/1.5.6/js/buttons.print.min",
    "chartjs": "https://cdnjs.cloudflare.com/ajax/libs/Chart.js/2.8.0/Chart",
    "d3": "https://d3js.org/d3.v5.min",
    "d3-array": "https://d3js.org/d3-array.v2.min",
    "datatables.net": "https://cdn.datatables.net/1.10.18/js/jquery.dataTables",
    "datatables.net-buttons": "https://cdn.datatables.net/buttons/1.5.6/js/dataTables.buttons.min",
    "datatables.responsive": "https://cdn.datatables.net/responsive/2.2.2/js/dataTables.responsive.min",
    "datatables.scroller": "https://cdn.datatables.net/scroller/2.0.0/js/dataTables.scroller.min",
    "datatables.select": "https://cdn.datatables.net/select/1.3.0/js/dataTables.select.min",
    "jszip": "https://cdnjs.cloudflare.com/ajax/libs/jszip/2.5.0/jszip.min",
    "moment": "https://cdnjs.cloudflare.com/ajax/libs/moment.js/2.8.0/moment",
    "pdfmake": "https://cdnjs.cloudflare.com/ajax/libs/pdfmake/0.1.36/pdfmake.min",
    "vfsfonts": "https://cdnjs.cloudflare.com/ajax/libs/pdfmake/0.1.36/vfs_fonts"
   },
   "shim": {
    "buttons.colvis": {
     "deps": [
      "jszip",
      "datatables.net-buttons"
     ]
    },
    "buttons.flash": {
     "deps": [
      "jszip",
      "datatables.net-buttons"
     ]
    },
    "buttons.html5": {
     "deps": [
      "jszip",
      "datatables.net-buttons"
     ]
    },
    "buttons.print": {
     "deps": [
      "jszip",
      "datatables.net-buttons"
     ]
    },
    "chartjs": {
     "deps": [
      "moment"
     ]
    },
    "datatables.net": {
     "exports": "$.fn.dataTable"
    },
    "datatables.net-buttons": {
     "deps": [
      "datatables.net"
     ]
    },
    "pdfmake": {
     "deps": [
      "datatables.net"
     ]
    },
    "vfsfonts": {
     "deps": [
      "datatables.net"
     ]
    }
   }
  }
 },
 "nbformat": 4,
 "nbformat_minor": 2
}