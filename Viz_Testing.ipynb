{
 "metadata": {
  "language_info": {
   "codemirror_mode": {
    "name": "ipython",
    "version": 3
   },
   "file_extension": ".py",
   "mimetype": "text/x-python",
   "name": "python",
   "nbconvert_exporter": "python",
   "pygments_lexer": "ipython3",
   "version": "3.7.9-final"
  },
  "orig_nbformat": 2,
  "kernelspec": {
   "name": "python3",
   "display_name": "Python 3",
   "language": "python"
  }
 },
 "nbformat": 4,
 "nbformat_minor": 2,
 "cells": [
  {
   "source": [
    "testing jupyter notebook from vscode"
   ],
   "cell_type": "markdown",
   "metadata": {}
  },
  {
   "cell_type": "code",
   "execution_count": 2,
   "metadata": {},
   "outputs": [],
   "source": [
    "# imports\n",
    "import pandas as pd\n",
    "import requests\n",
    "import altair as alt"
   ]
  },
  {
   "cell_type": "code",
   "execution_count": 3,
   "metadata": {},
   "outputs": [
    {
     "output_type": "execute_result",
     "data": {
      "text/plain": [
       "RendererRegistry.enable('altair_viewer')"
      ]
     },
     "metadata": {},
     "execution_count": 3
    }
   ],
   "source": [
    "alt.renderers.enable('altair_viewer')"
   ]
  },
  {
   "cell_type": "code",
   "execution_count": 4,
   "metadata": {},
   "outputs": [],
   "source": [
    "# set up alphavantage api stuff\n",
    "# symbol = input()\n",
    "api_key = 'LAJBI8EN52GC18OY'\n",
    "base_url = 'https://www.alphavantage.co/query?'\n",
    "params = {'function': 'TIME_SERIES_DAILY_ADJUSTED',\n",
    "          'symbol': 'GME',\n",
    "          'apikey': api_key}"
   ]
  },
  {
   "cell_type": "code",
   "execution_count": 5,
   "metadata": {},
   "outputs": [],
   "source": [
    "# get response from api and format it a bit and put it into a dict\n",
    "# this helps with the mulit level nested json by 'stripping' metadata header info\n",
    "response = requests.get(base_url, params=params)\n",
    "response_dict = response.json()\n",
    "_, header = response.json()"
   ]
  },
  {
   "cell_type": "code",
   "execution_count": 6,
   "metadata": {},
   "outputs": [],
   "source": [
    "# create a pandas dataframe from response_dict\n",
    "df = pd.DataFrame.from_dict(response_dict[header], orient='index')\n",
    "# strip the cols names down to bare bones header\n",
    "df_cols = [i.split(' ')[1] for i in df.columns]\n",
    "df.columns = df_cols"
   ]
  },
  {
   "cell_type": "code",
   "execution_count": 7,
   "metadata": {},
   "outputs": [],
   "source": [
    "df['date'] = df.index"
   ]
  },
  {
   "cell_type": "code",
   "execution_count": 8,
   "metadata": {},
   "outputs": [
    {
     "output_type": "execute_result",
     "data": {
      "text/plain": [
       "              open      high       low   close adjusted    volume dividend  \\\n",
       "2021-03-10  269.43     348.5     172.0   265.0    265.0  70716411   0.0000   \n",
       "2021-03-09  217.71    249.85  208.5101   246.9    246.9  39099331   0.0000   \n",
       "2021-03-08  154.89  210.8699     146.1   194.5    194.5  63565620   0.0000   \n",
       "2021-03-05  128.17    151.53     127.5  137.74   137.74  30733673   0.0000   \n",
       "2021-03-04   125.0  147.8699     115.3  132.35   132.35  32606893   0.0000   \n",
       "...            ...       ...       ...     ...      ...       ...      ...   \n",
       "2020-10-21    13.9     14.42      13.8    14.1     14.1   5361928   0.0000   \n",
       "2020-10-20   14.03    14.143    13.665   13.86    13.86   6603951   0.0000   \n",
       "2020-10-19   13.44      14.5     13.38   13.91    13.91  13169073   0.0000   \n",
       "2020-10-16   13.77      13.9     13.08   13.31    13.31  11651578   0.0000   \n",
       "2020-10-15   11.99      15.1     11.99   13.83    13.83  39894822   0.0000   \n",
       "\n",
       "           split        date  \n",
       "2021-03-10   1.0  2021-03-10  \n",
       "2021-03-09   1.0  2021-03-09  \n",
       "2021-03-08   1.0  2021-03-08  \n",
       "2021-03-05   1.0  2021-03-05  \n",
       "2021-03-04   1.0  2021-03-04  \n",
       "...          ...         ...  \n",
       "2020-10-21   1.0  2020-10-21  \n",
       "2020-10-20   1.0  2020-10-20  \n",
       "2020-10-19   1.0  2020-10-19  \n",
       "2020-10-16   1.0  2020-10-16  \n",
       "2020-10-15   1.0  2020-10-15  \n",
       "\n",
       "[100 rows x 9 columns]"
      ],
      "text/html": "<div>\n<style scoped>\n    .dataframe tbody tr th:only-of-type {\n        vertical-align: middle;\n    }\n\n    .dataframe tbody tr th {\n        vertical-align: top;\n    }\n\n    .dataframe thead th {\n        text-align: right;\n    }\n</style>\n<table border=\"1\" class=\"dataframe\">\n  <thead>\n    <tr style=\"text-align: right;\">\n      <th></th>\n      <th>open</th>\n      <th>high</th>\n      <th>low</th>\n      <th>close</th>\n      <th>adjusted</th>\n      <th>volume</th>\n      <th>dividend</th>\n      <th>split</th>\n      <th>date</th>\n    </tr>\n  </thead>\n  <tbody>\n    <tr>\n      <th>2021-03-10</th>\n      <td>269.43</td>\n      <td>348.5</td>\n      <td>172.0</td>\n      <td>265.0</td>\n      <td>265.0</td>\n      <td>70716411</td>\n      <td>0.0000</td>\n      <td>1.0</td>\n      <td>2021-03-10</td>\n    </tr>\n    <tr>\n      <th>2021-03-09</th>\n      <td>217.71</td>\n      <td>249.85</td>\n      <td>208.5101</td>\n      <td>246.9</td>\n      <td>246.9</td>\n      <td>39099331</td>\n      <td>0.0000</td>\n      <td>1.0</td>\n      <td>2021-03-09</td>\n    </tr>\n    <tr>\n      <th>2021-03-08</th>\n      <td>154.89</td>\n      <td>210.8699</td>\n      <td>146.1</td>\n      <td>194.5</td>\n      <td>194.5</td>\n      <td>63565620</td>\n      <td>0.0000</td>\n      <td>1.0</td>\n      <td>2021-03-08</td>\n    </tr>\n    <tr>\n      <th>2021-03-05</th>\n      <td>128.17</td>\n      <td>151.53</td>\n      <td>127.5</td>\n      <td>137.74</td>\n      <td>137.74</td>\n      <td>30733673</td>\n      <td>0.0000</td>\n      <td>1.0</td>\n      <td>2021-03-05</td>\n    </tr>\n    <tr>\n      <th>2021-03-04</th>\n      <td>125.0</td>\n      <td>147.8699</td>\n      <td>115.3</td>\n      <td>132.35</td>\n      <td>132.35</td>\n      <td>32606893</td>\n      <td>0.0000</td>\n      <td>1.0</td>\n      <td>2021-03-04</td>\n    </tr>\n    <tr>\n      <th>...</th>\n      <td>...</td>\n      <td>...</td>\n      <td>...</td>\n      <td>...</td>\n      <td>...</td>\n      <td>...</td>\n      <td>...</td>\n      <td>...</td>\n      <td>...</td>\n    </tr>\n    <tr>\n      <th>2020-10-21</th>\n      <td>13.9</td>\n      <td>14.42</td>\n      <td>13.8</td>\n      <td>14.1</td>\n      <td>14.1</td>\n      <td>5361928</td>\n      <td>0.0000</td>\n      <td>1.0</td>\n      <td>2020-10-21</td>\n    </tr>\n    <tr>\n      <th>2020-10-20</th>\n      <td>14.03</td>\n      <td>14.143</td>\n      <td>13.665</td>\n      <td>13.86</td>\n      <td>13.86</td>\n      <td>6603951</td>\n      <td>0.0000</td>\n      <td>1.0</td>\n      <td>2020-10-20</td>\n    </tr>\n    <tr>\n      <th>2020-10-19</th>\n      <td>13.44</td>\n      <td>14.5</td>\n      <td>13.38</td>\n      <td>13.91</td>\n      <td>13.91</td>\n      <td>13169073</td>\n      <td>0.0000</td>\n      <td>1.0</td>\n      <td>2020-10-19</td>\n    </tr>\n    <tr>\n      <th>2020-10-16</th>\n      <td>13.77</td>\n      <td>13.9</td>\n      <td>13.08</td>\n      <td>13.31</td>\n      <td>13.31</td>\n      <td>11651578</td>\n      <td>0.0000</td>\n      <td>1.0</td>\n      <td>2020-10-16</td>\n    </tr>\n    <tr>\n      <th>2020-10-15</th>\n      <td>11.99</td>\n      <td>15.1</td>\n      <td>11.99</td>\n      <td>13.83</td>\n      <td>13.83</td>\n      <td>39894822</td>\n      <td>0.0000</td>\n      <td>1.0</td>\n      <td>2020-10-15</td>\n    </tr>\n  </tbody>\n</table>\n<p>100 rows × 9 columns</p>\n</div>"
     },
     "metadata": {},
     "execution_count": 8
    }
   ],
   "source": [
    "df"
   ]
  },
  {
   "cell_type": "code",
   "execution_count": 9,
   "metadata": {},
   "outputs": [],
   "source": [
    "#this saves a new df with a new index 01234 etc not the date string.\n",
    "df1 = df.reset_index(drop=True)"
   ]
  },
  {
   "cell_type": "code",
   "execution_count": 10,
   "metadata": {},
   "outputs": [
    {
     "output_type": "stream",
     "name": "stdout",
     "text": [
      "Displaying chart at http://localhost:19311/\n"
     ]
    }
   ],
   "source": [
    "#this works now with all cols as 'objects'. no need to convert 'date' col to datetime in pandas\n",
    "chart = alt.Chart(df1).mark_circle(size=50).encode(\n",
    "    x='date:T',\n",
    "    y='open:Q',\n",
    "    \n",
    "    tooltip=['open','close','high','low']\n",
    ").interactive()\n",
    "chart.show()"
   ]
  },
  {
   "cell_type": "code",
   "execution_count": 13,
   "metadata": {},
   "outputs": [
    {
     "output_type": "execute_result",
     "data": {
      "text/plain": [
       "      open      high       low   close adjusted    volume dividend split  \\\n",
       "0   269.43     348.5     172.0   265.0    265.0  70716411   0.0000   1.0   \n",
       "1   217.71    249.85  208.5101   246.9    246.9  39099331   0.0000   1.0   \n",
       "2   154.89  210.8699     146.1   194.5    194.5  63565620   0.0000   1.0   \n",
       "3   128.17    151.53     127.5  137.74   137.74  30733673   0.0000   1.0   \n",
       "4    125.0  147.8699     115.3  132.35   132.35  32606893   0.0000   1.0   \n",
       "..     ...       ...       ...     ...      ...       ...      ...   ...   \n",
       "95    13.9     14.42      13.8    14.1     14.1   5361928   0.0000   1.0   \n",
       "96   14.03    14.143    13.665   13.86    13.86   6603951   0.0000   1.0   \n",
       "97   13.44      14.5     13.38   13.91    13.91  13169073   0.0000   1.0   \n",
       "98   13.77      13.9     13.08   13.31    13.31  11651578   0.0000   1.0   \n",
       "99   11.99      15.1     11.99   13.83    13.83  39894822   0.0000   1.0   \n",
       "\n",
       "          date  \n",
       "0   2021-03-10  \n",
       "1   2021-03-09  \n",
       "2   2021-03-08  \n",
       "3   2021-03-05  \n",
       "4   2021-03-04  \n",
       "..         ...  \n",
       "95  2020-10-21  \n",
       "96  2020-10-20  \n",
       "97  2020-10-19  \n",
       "98  2020-10-16  \n",
       "99  2020-10-15  \n",
       "\n",
       "[100 rows x 9 columns]"
      ],
      "text/html": "<div>\n<style scoped>\n    .dataframe tbody tr th:only-of-type {\n        vertical-align: middle;\n    }\n\n    .dataframe tbody tr th {\n        vertical-align: top;\n    }\n\n    .dataframe thead th {\n        text-align: right;\n    }\n</style>\n<table border=\"1\" class=\"dataframe\">\n  <thead>\n    <tr style=\"text-align: right;\">\n      <th></th>\n      <th>open</th>\n      <th>high</th>\n      <th>low</th>\n      <th>close</th>\n      <th>adjusted</th>\n      <th>volume</th>\n      <th>dividend</th>\n      <th>split</th>\n      <th>date</th>\n    </tr>\n  </thead>\n  <tbody>\n    <tr>\n      <th>0</th>\n      <td>269.43</td>\n      <td>348.5</td>\n      <td>172.0</td>\n      <td>265.0</td>\n      <td>265.0</td>\n      <td>70716411</td>\n      <td>0.0000</td>\n      <td>1.0</td>\n      <td>2021-03-10</td>\n    </tr>\n    <tr>\n      <th>1</th>\n      <td>217.71</td>\n      <td>249.85</td>\n      <td>208.5101</td>\n      <td>246.9</td>\n      <td>246.9</td>\n      <td>39099331</td>\n      <td>0.0000</td>\n      <td>1.0</td>\n      <td>2021-03-09</td>\n    </tr>\n    <tr>\n      <th>2</th>\n      <td>154.89</td>\n      <td>210.8699</td>\n      <td>146.1</td>\n      <td>194.5</td>\n      <td>194.5</td>\n      <td>63565620</td>\n      <td>0.0000</td>\n      <td>1.0</td>\n      <td>2021-03-08</td>\n    </tr>\n    <tr>\n      <th>3</th>\n      <td>128.17</td>\n      <td>151.53</td>\n      <td>127.5</td>\n      <td>137.74</td>\n      <td>137.74</td>\n      <td>30733673</td>\n      <td>0.0000</td>\n      <td>1.0</td>\n      <td>2021-03-05</td>\n    </tr>\n    <tr>\n      <th>4</th>\n      <td>125.0</td>\n      <td>147.8699</td>\n      <td>115.3</td>\n      <td>132.35</td>\n      <td>132.35</td>\n      <td>32606893</td>\n      <td>0.0000</td>\n      <td>1.0</td>\n      <td>2021-03-04</td>\n    </tr>\n    <tr>\n      <th>...</th>\n      <td>...</td>\n      <td>...</td>\n      <td>...</td>\n      <td>...</td>\n      <td>...</td>\n      <td>...</td>\n      <td>...</td>\n      <td>...</td>\n      <td>...</td>\n    </tr>\n    <tr>\n      <th>95</th>\n      <td>13.9</td>\n      <td>14.42</td>\n      <td>13.8</td>\n      <td>14.1</td>\n      <td>14.1</td>\n      <td>5361928</td>\n      <td>0.0000</td>\n      <td>1.0</td>\n      <td>2020-10-21</td>\n    </tr>\n    <tr>\n      <th>96</th>\n      <td>14.03</td>\n      <td>14.143</td>\n      <td>13.665</td>\n      <td>13.86</td>\n      <td>13.86</td>\n      <td>6603951</td>\n      <td>0.0000</td>\n      <td>1.0</td>\n      <td>2020-10-20</td>\n    </tr>\n    <tr>\n      <th>97</th>\n      <td>13.44</td>\n      <td>14.5</td>\n      <td>13.38</td>\n      <td>13.91</td>\n      <td>13.91</td>\n      <td>13169073</td>\n      <td>0.0000</td>\n      <td>1.0</td>\n      <td>2020-10-19</td>\n    </tr>\n    <tr>\n      <th>98</th>\n      <td>13.77</td>\n      <td>13.9</td>\n      <td>13.08</td>\n      <td>13.31</td>\n      <td>13.31</td>\n      <td>11651578</td>\n      <td>0.0000</td>\n      <td>1.0</td>\n      <td>2020-10-16</td>\n    </tr>\n    <tr>\n      <th>99</th>\n      <td>11.99</td>\n      <td>15.1</td>\n      <td>11.99</td>\n      <td>13.83</td>\n      <td>13.83</td>\n      <td>39894822</td>\n      <td>0.0000</td>\n      <td>1.0</td>\n      <td>2020-10-15</td>\n    </tr>\n  </tbody>\n</table>\n<p>100 rows × 9 columns</p>\n</div>"
     },
     "metadata": {},
     "execution_count": 13
    }
   ],
   "source": [
    "# notice the new index field and 'date' field\n",
    "df1"
   ]
  },
  {
   "cell_type": "code",
   "execution_count": 15,
   "metadata": {},
   "outputs": [],
   "source": [
    "df_difs = df1[['open','close']]"
   ]
  },
  {
   "cell_type": "code",
   "execution_count": 16,
   "metadata": {},
   "outputs": [
    {
     "output_type": "execute_result",
     "data": {
      "text/plain": [
       "      open   close\n",
       "0   269.43   265.0\n",
       "1   217.71   246.9\n",
       "2   154.89   194.5\n",
       "3   128.17  137.74\n",
       "4    125.0  132.35\n",
       "..     ...     ...\n",
       "95    13.9    14.1\n",
       "96   14.03   13.86\n",
       "97   13.44   13.91\n",
       "98   13.77   13.31\n",
       "99   11.99   13.83\n",
       "\n",
       "[100 rows x 2 columns]"
      ],
      "text/html": "<div>\n<style scoped>\n    .dataframe tbody tr th:only-of-type {\n        vertical-align: middle;\n    }\n\n    .dataframe tbody tr th {\n        vertical-align: top;\n    }\n\n    .dataframe thead th {\n        text-align: right;\n    }\n</style>\n<table border=\"1\" class=\"dataframe\">\n  <thead>\n    <tr style=\"text-align: right;\">\n      <th></th>\n      <th>open</th>\n      <th>close</th>\n    </tr>\n  </thead>\n  <tbody>\n    <tr>\n      <th>0</th>\n      <td>269.43</td>\n      <td>265.0</td>\n    </tr>\n    <tr>\n      <th>1</th>\n      <td>217.71</td>\n      <td>246.9</td>\n    </tr>\n    <tr>\n      <th>2</th>\n      <td>154.89</td>\n      <td>194.5</td>\n    </tr>\n    <tr>\n      <th>3</th>\n      <td>128.17</td>\n      <td>137.74</td>\n    </tr>\n    <tr>\n      <th>4</th>\n      <td>125.0</td>\n      <td>132.35</td>\n    </tr>\n    <tr>\n      <th>...</th>\n      <td>...</td>\n      <td>...</td>\n    </tr>\n    <tr>\n      <th>95</th>\n      <td>13.9</td>\n      <td>14.1</td>\n    </tr>\n    <tr>\n      <th>96</th>\n      <td>14.03</td>\n      <td>13.86</td>\n    </tr>\n    <tr>\n      <th>97</th>\n      <td>13.44</td>\n      <td>13.91</td>\n    </tr>\n    <tr>\n      <th>98</th>\n      <td>13.77</td>\n      <td>13.31</td>\n    </tr>\n    <tr>\n      <th>99</th>\n      <td>11.99</td>\n      <td>13.83</td>\n    </tr>\n  </tbody>\n</table>\n<p>100 rows × 2 columns</p>\n</div>"
     },
     "metadata": {},
     "execution_count": 16
    }
   ],
   "source": [
    "df_difs"
   ]
  },
  {
   "cell_type": "code",
   "execution_count": 18,
   "metadata": {},
   "outputs": [],
   "source": [
    "# this is computing the difference between 'open' and 'close' and putting result in the 'close' col after converting from object to numeric(float64). # otherwise math won't work\n",
    "df_difs = df_difs[['open', 'close']].apply(pd.to_numeric).diff(axis=1)"
   ]
  },
  {
   "cell_type": "code",
   "execution_count": 28,
   "metadata": {},
   "outputs": [],
   "source": [
    "df_diff = df_difs['close']"
   ]
  },
  {
   "cell_type": "code",
   "execution_count": 29,
   "metadata": {},
   "outputs": [],
   "source": [
    "df_date = df1['date']"
   ]
  },
  {
   "cell_type": "code",
   "execution_count": 30,
   "metadata": {},
   "outputs": [
    {
     "output_type": "execute_result",
     "data": {
      "text/plain": [
       "0     2021-03-10\n",
       "1     2021-03-09\n",
       "2     2021-03-08\n",
       "3     2021-03-05\n",
       "4     2021-03-04\n",
       "         ...    \n",
       "95    2020-10-21\n",
       "96    2020-10-20\n",
       "97    2020-10-19\n",
       "98    2020-10-16\n",
       "99    2020-10-15\n",
       "Name: date, Length: 100, dtype: object"
      ]
     },
     "metadata": {},
     "execution_count": 30
    }
   ],
   "source": [
    "df_date"
   ]
  },
  {
   "cell_type": "code",
   "execution_count": 31,
   "metadata": {},
   "outputs": [
    {
     "output_type": "execute_result",
     "data": {
      "text/plain": [
       "0     -4.43\n",
       "1     29.19\n",
       "2     39.61\n",
       "3      9.57\n",
       "4      7.35\n",
       "      ...  \n",
       "95     0.20\n",
       "96    -0.17\n",
       "97     0.47\n",
       "98    -0.46\n",
       "99     1.84\n",
       "Name: close, Length: 100, dtype: float64"
      ]
     },
     "metadata": {},
     "execution_count": 31
    }
   ],
   "source": [
    "df_diff"
   ]
  },
  {
   "cell_type": "code",
   "execution_count": 38,
   "metadata": {},
   "outputs": [],
   "source": [
    "df_posneg = pd.DataFrame(dict(date = df_date, diff = df_diff))"
   ]
  },
  {
   "cell_type": "code",
   "execution_count": 39,
   "metadata": {},
   "outputs": [
    {
     "output_type": "execute_result",
     "data": {
      "text/plain": [
       "          date   diff\n",
       "0   2021-03-10  -4.43\n",
       "1   2021-03-09  29.19\n",
       "2   2021-03-08  39.61\n",
       "3   2021-03-05   9.57\n",
       "4   2021-03-04   7.35\n",
       "..         ...    ...\n",
       "95  2020-10-21   0.20\n",
       "96  2020-10-20  -0.17\n",
       "97  2020-10-19   0.47\n",
       "98  2020-10-16  -0.46\n",
       "99  2020-10-15   1.84\n",
       "\n",
       "[100 rows x 2 columns]"
      ],
      "text/html": "<div>\n<style scoped>\n    .dataframe tbody tr th:only-of-type {\n        vertical-align: middle;\n    }\n\n    .dataframe tbody tr th {\n        vertical-align: top;\n    }\n\n    .dataframe thead th {\n        text-align: right;\n    }\n</style>\n<table border=\"1\" class=\"dataframe\">\n  <thead>\n    <tr style=\"text-align: right;\">\n      <th></th>\n      <th>date</th>\n      <th>diff</th>\n    </tr>\n  </thead>\n  <tbody>\n    <tr>\n      <th>0</th>\n      <td>2021-03-10</td>\n      <td>-4.43</td>\n    </tr>\n    <tr>\n      <th>1</th>\n      <td>2021-03-09</td>\n      <td>29.19</td>\n    </tr>\n    <tr>\n      <th>2</th>\n      <td>2021-03-08</td>\n      <td>39.61</td>\n    </tr>\n    <tr>\n      <th>3</th>\n      <td>2021-03-05</td>\n      <td>9.57</td>\n    </tr>\n    <tr>\n      <th>4</th>\n      <td>2021-03-04</td>\n      <td>7.35</td>\n    </tr>\n    <tr>\n      <th>...</th>\n      <td>...</td>\n      <td>...</td>\n    </tr>\n    <tr>\n      <th>95</th>\n      <td>2020-10-21</td>\n      <td>0.20</td>\n    </tr>\n    <tr>\n      <th>96</th>\n      <td>2020-10-20</td>\n      <td>-0.17</td>\n    </tr>\n    <tr>\n      <th>97</th>\n      <td>2020-10-19</td>\n      <td>0.47</td>\n    </tr>\n    <tr>\n      <th>98</th>\n      <td>2020-10-16</td>\n      <td>-0.46</td>\n    </tr>\n    <tr>\n      <th>99</th>\n      <td>2020-10-15</td>\n      <td>1.84</td>\n    </tr>\n  </tbody>\n</table>\n<p>100 rows × 2 columns</p>\n</div>"
     },
     "metadata": {},
     "execution_count": 39
    }
   ],
   "source": [
    "df_posneg"
   ]
  },
  {
   "cell_type": "code",
   "execution_count": 54,
   "metadata": {},
   "outputs": [
    {
     "output_type": "stream",
     "name": "stdout",
     "text": [
      "Displaying chart at http://localhost:19311/\n"
     ]
    }
   ],
   "source": [
    "\n",
    "\n",
    "chart2 = alt.Chart(df_posneg).mark_bar().encode(\n",
    "    x=\"date\",\n",
    "    y=\"diff:Q\",\n",
    "    tooltip=['diff','date'],\n",
    "    color=alt.condition(\n",
    "        alt.datum.diff > 0,\n",
    "        alt.value(\"steelblue\"),  # The positive color\n",
    "        alt.value(\"orange\")  # The negative color\n",
    "    )\n",
    ").properties(width=1200).interactive()\n",
    "chart2.show()"
   ]
  },
  {
   "cell_type": "code",
   "execution_count": null,
   "metadata": {},
   "outputs": [],
   "source": []
  }
 ]
}