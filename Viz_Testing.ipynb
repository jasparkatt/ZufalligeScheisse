{
 "metadata": {
  "language_info": {
   "codemirror_mode": {
    "name": "ipython",
    "version": 3
   },
   "file_extension": ".py",
   "mimetype": "text/x-python",
   "name": "python",
   "nbconvert_exporter": "python",
   "pygments_lexer": "ipython3",
   "version": "3.7.9-final"
  },
  "orig_nbformat": 2,
  "kernelspec": {
   "name": "python3",
   "display_name": "Python 3.7.9 64-bit",
   "metadata": {
    "interpreter": {
     "hash": "3ff1e5f476a507399e1433e12d1ae46d43363e49c1984569652e6f230cf2a109"
    }
   }
  }
 },
 "nbformat": 4,
 "nbformat_minor": 2,
 "cells": [
  {
   "source": [
    "testing jupyter notebook from vscode"
   ],
   "cell_type": "markdown",
   "metadata": {}
  },
  {
   "cell_type": "code",
   "execution_count": 81,
   "metadata": {},
   "outputs": [],
   "source": [
    "# imports\n",
    "import pandas as pd\n",
    "import requests\n",
    "import altair as alt"
   ]
  },
  {
   "cell_type": "code",
   "execution_count": 82,
   "metadata": {},
   "outputs": [
    {
     "output_type": "execute_result",
     "data": {
      "text/plain": [
       "RendererRegistry.enable('altair_viewer')"
      ]
     },
     "metadata": {},
     "execution_count": 82
    }
   ],
   "source": [
    "alt.renderers.enable('altair_viewer')"
   ]
  },
  {
   "cell_type": "code",
   "execution_count": 83,
   "metadata": {},
   "outputs": [],
   "source": [
    "# set up alphavantage api stuff\n",
    "# symbol = input()\n",
    "api_key = 'LAJBI8EN52GC18OY'\n",
    "base_url = 'https://www.alphavantage.co/query?'\n",
    "params = {'function': 'TIME_SERIES_DAILY_ADJUSTED',\n",
    "          'symbol': 'CYDY',\n",
    "          'apikey': api_key}"
   ]
  },
  {
   "cell_type": "code",
   "execution_count": 84,
   "metadata": {},
   "outputs": [],
   "source": [
    "# get response from api and format it a bit and put it into a dict\n",
    "# this helps with the mulit level nested json by 'stripping' metadata header info\n",
    "response = requests.get(base_url, params=params)\n",
    "response_dict = response.json()\n",
    "_, header = response.json()"
   ]
  },
  {
   "cell_type": "code",
   "execution_count": 85,
   "metadata": {},
   "outputs": [],
   "source": [
    "# create a pandas dataframe from response_dict\n",
    "df = pd.DataFrame.from_dict(response_dict[header], orient='index')\n",
    "# strip the cols names down to bare bones header\n",
    "df_cols = [i.split(' ')[1] for i in df.columns]\n",
    "df.columns = df_cols"
   ]
  },
  {
   "cell_type": "code",
   "execution_count": 86,
   "metadata": {},
   "outputs": [],
   "source": [
    "df['date'] = df.index"
   ]
  },
  {
   "cell_type": "code",
   "execution_count": 87,
   "metadata": {},
   "outputs": [
    {
     "output_type": "execute_result",
     "data": {
      "text/plain": [
       "            open  high   low   close adjusted    volume dividend split  \\\n",
       "2021-03-09   2.7   2.7  2.17    2.35     2.35  22115724   0.0000   1.0   \n",
       "2021-03-08   2.9  3.28   2.7    2.91     2.91  21383775   0.0000   1.0   \n",
       "2021-03-05   4.2  4.75  4.02    4.05     4.05   4604187   0.0000   1.0   \n",
       "2021-03-04  4.35  4.35  4.02    4.06     4.06   3319689   0.0000   1.0   \n",
       "2021-03-03  4.59  4.62   4.3    4.32     4.32   2219446   0.0000   1.0   \n",
       "...          ...   ...   ...     ...      ...       ...      ...   ...   \n",
       "2020-10-20  2.99  3.09  2.66  2.7301   2.7301   6170210   0.0000   1.0   \n",
       "2020-10-19  2.82  2.93  2.81    2.82     2.82   1863826   0.0000   1.0   \n",
       "2020-10-16  2.85  2.89  2.76    2.81     2.81   4500498   0.0000   1.0   \n",
       "2020-10-15  2.94  3.06  2.89    2.98     2.98   2922052   0.0000   1.0   \n",
       "2020-10-14  3.23  3.27  2.65    2.86     2.86   3657561   0.0000   1.0   \n",
       "\n",
       "                  date  \n",
       "2021-03-09  2021-03-09  \n",
       "2021-03-08  2021-03-08  \n",
       "2021-03-05  2021-03-05  \n",
       "2021-03-04  2021-03-04  \n",
       "2021-03-03  2021-03-03  \n",
       "...                ...  \n",
       "2020-10-20  2020-10-20  \n",
       "2020-10-19  2020-10-19  \n",
       "2020-10-16  2020-10-16  \n",
       "2020-10-15  2020-10-15  \n",
       "2020-10-14  2020-10-14  \n",
       "\n",
       "[100 rows x 9 columns]"
      ],
      "text/html": "<div>\n<style scoped>\n    .dataframe tbody tr th:only-of-type {\n        vertical-align: middle;\n    }\n\n    .dataframe tbody tr th {\n        vertical-align: top;\n    }\n\n    .dataframe thead th {\n        text-align: right;\n    }\n</style>\n<table border=\"1\" class=\"dataframe\">\n  <thead>\n    <tr style=\"text-align: right;\">\n      <th></th>\n      <th>open</th>\n      <th>high</th>\n      <th>low</th>\n      <th>close</th>\n      <th>adjusted</th>\n      <th>volume</th>\n      <th>dividend</th>\n      <th>split</th>\n      <th>date</th>\n    </tr>\n  </thead>\n  <tbody>\n    <tr>\n      <th>2021-03-09</th>\n      <td>2.7</td>\n      <td>2.7</td>\n      <td>2.17</td>\n      <td>2.35</td>\n      <td>2.35</td>\n      <td>22115724</td>\n      <td>0.0000</td>\n      <td>1.0</td>\n      <td>2021-03-09</td>\n    </tr>\n    <tr>\n      <th>2021-03-08</th>\n      <td>2.9</td>\n      <td>3.28</td>\n      <td>2.7</td>\n      <td>2.91</td>\n      <td>2.91</td>\n      <td>21383775</td>\n      <td>0.0000</td>\n      <td>1.0</td>\n      <td>2021-03-08</td>\n    </tr>\n    <tr>\n      <th>2021-03-05</th>\n      <td>4.2</td>\n      <td>4.75</td>\n      <td>4.02</td>\n      <td>4.05</td>\n      <td>4.05</td>\n      <td>4604187</td>\n      <td>0.0000</td>\n      <td>1.0</td>\n      <td>2021-03-05</td>\n    </tr>\n    <tr>\n      <th>2021-03-04</th>\n      <td>4.35</td>\n      <td>4.35</td>\n      <td>4.02</td>\n      <td>4.06</td>\n      <td>4.06</td>\n      <td>3319689</td>\n      <td>0.0000</td>\n      <td>1.0</td>\n      <td>2021-03-04</td>\n    </tr>\n    <tr>\n      <th>2021-03-03</th>\n      <td>4.59</td>\n      <td>4.62</td>\n      <td>4.3</td>\n      <td>4.32</td>\n      <td>4.32</td>\n      <td>2219446</td>\n      <td>0.0000</td>\n      <td>1.0</td>\n      <td>2021-03-03</td>\n    </tr>\n    <tr>\n      <th>...</th>\n      <td>...</td>\n      <td>...</td>\n      <td>...</td>\n      <td>...</td>\n      <td>...</td>\n      <td>...</td>\n      <td>...</td>\n      <td>...</td>\n      <td>...</td>\n    </tr>\n    <tr>\n      <th>2020-10-20</th>\n      <td>2.99</td>\n      <td>3.09</td>\n      <td>2.66</td>\n      <td>2.7301</td>\n      <td>2.7301</td>\n      <td>6170210</td>\n      <td>0.0000</td>\n      <td>1.0</td>\n      <td>2020-10-20</td>\n    </tr>\n    <tr>\n      <th>2020-10-19</th>\n      <td>2.82</td>\n      <td>2.93</td>\n      <td>2.81</td>\n      <td>2.82</td>\n      <td>2.82</td>\n      <td>1863826</td>\n      <td>0.0000</td>\n      <td>1.0</td>\n      <td>2020-10-19</td>\n    </tr>\n    <tr>\n      <th>2020-10-16</th>\n      <td>2.85</td>\n      <td>2.89</td>\n      <td>2.76</td>\n      <td>2.81</td>\n      <td>2.81</td>\n      <td>4500498</td>\n      <td>0.0000</td>\n      <td>1.0</td>\n      <td>2020-10-16</td>\n    </tr>\n    <tr>\n      <th>2020-10-15</th>\n      <td>2.94</td>\n      <td>3.06</td>\n      <td>2.89</td>\n      <td>2.98</td>\n      <td>2.98</td>\n      <td>2922052</td>\n      <td>0.0000</td>\n      <td>1.0</td>\n      <td>2020-10-15</td>\n    </tr>\n    <tr>\n      <th>2020-10-14</th>\n      <td>3.23</td>\n      <td>3.27</td>\n      <td>2.65</td>\n      <td>2.86</td>\n      <td>2.86</td>\n      <td>3657561</td>\n      <td>0.0000</td>\n      <td>1.0</td>\n      <td>2020-10-14</td>\n    </tr>\n  </tbody>\n</table>\n<p>100 rows × 9 columns</p>\n</div>"
     },
     "metadata": {},
     "execution_count": 87
    }
   ],
   "source": [
    "df"
   ]
  },
  {
   "cell_type": "code",
   "execution_count": 88,
   "metadata": {},
   "outputs": [],
   "source": [
    "#this saves a new df with a new index 01234 etc not the date string.\n",
    "df1 = df.reset_index(drop=True)"
   ]
  },
  {
   "cell_type": "code",
   "execution_count": 90,
   "metadata": {},
   "outputs": [
    {
     "output_type": "stream",
     "name": "stdout",
     "text": [
      "Displaying chart at http://localhost:23566/\n"
     ]
    }
   ],
   "source": [
    "#this works now with all cols as 'objects'. no need to convert 'date' col to datetime in pandas\n",
    "chart = alt.Chart(df1).mark_circle(size=50).encode(\n",
    "    x='date:T',\n",
    "    y='open:Q',\n",
    "    \n",
    "    tooltip=['open','close','high','low']\n",
    ").interactive()\n",
    "chart.show()"
   ]
  },
  {
   "cell_type": "code",
   "execution_count": 94,
   "metadata": {},
   "outputs": [
    {
     "output_type": "execute_result",
     "data": {
      "text/plain": [
       "    open  high   low   close adjusted    volume dividend split        date\n",
       "0    2.7   2.7  2.17    2.35     2.35  22115724   0.0000   1.0  2021-03-09\n",
       "1    2.9  3.28   2.7    2.91     2.91  21383775   0.0000   1.0  2021-03-08\n",
       "2    4.2  4.75  4.02    4.05     4.05   4604187   0.0000   1.0  2021-03-05\n",
       "3   4.35  4.35  4.02    4.06     4.06   3319689   0.0000   1.0  2021-03-04\n",
       "4   4.59  4.62   4.3    4.32     4.32   2219446   0.0000   1.0  2021-03-03\n",
       "..   ...   ...   ...     ...      ...       ...      ...   ...         ...\n",
       "95  2.99  3.09  2.66  2.7301   2.7301   6170210   0.0000   1.0  2020-10-20\n",
       "96  2.82  2.93  2.81    2.82     2.82   1863826   0.0000   1.0  2020-10-19\n",
       "97  2.85  2.89  2.76    2.81     2.81   4500498   0.0000   1.0  2020-10-16\n",
       "98  2.94  3.06  2.89    2.98     2.98   2922052   0.0000   1.0  2020-10-15\n",
       "99  3.23  3.27  2.65    2.86     2.86   3657561   0.0000   1.0  2020-10-14\n",
       "\n",
       "[100 rows x 9 columns]"
      ],
      "text/html": "<div>\n<style scoped>\n    .dataframe tbody tr th:only-of-type {\n        vertical-align: middle;\n    }\n\n    .dataframe tbody tr th {\n        vertical-align: top;\n    }\n\n    .dataframe thead th {\n        text-align: right;\n    }\n</style>\n<table border=\"1\" class=\"dataframe\">\n  <thead>\n    <tr style=\"text-align: right;\">\n      <th></th>\n      <th>open</th>\n      <th>high</th>\n      <th>low</th>\n      <th>close</th>\n      <th>adjusted</th>\n      <th>volume</th>\n      <th>dividend</th>\n      <th>split</th>\n      <th>date</th>\n    </tr>\n  </thead>\n  <tbody>\n    <tr>\n      <th>0</th>\n      <td>2.7</td>\n      <td>2.7</td>\n      <td>2.17</td>\n      <td>2.35</td>\n      <td>2.35</td>\n      <td>22115724</td>\n      <td>0.0000</td>\n      <td>1.0</td>\n      <td>2021-03-09</td>\n    </tr>\n    <tr>\n      <th>1</th>\n      <td>2.9</td>\n      <td>3.28</td>\n      <td>2.7</td>\n      <td>2.91</td>\n      <td>2.91</td>\n      <td>21383775</td>\n      <td>0.0000</td>\n      <td>1.0</td>\n      <td>2021-03-08</td>\n    </tr>\n    <tr>\n      <th>2</th>\n      <td>4.2</td>\n      <td>4.75</td>\n      <td>4.02</td>\n      <td>4.05</td>\n      <td>4.05</td>\n      <td>4604187</td>\n      <td>0.0000</td>\n      <td>1.0</td>\n      <td>2021-03-05</td>\n    </tr>\n    <tr>\n      <th>3</th>\n      <td>4.35</td>\n      <td>4.35</td>\n      <td>4.02</td>\n      <td>4.06</td>\n      <td>4.06</td>\n      <td>3319689</td>\n      <td>0.0000</td>\n      <td>1.0</td>\n      <td>2021-03-04</td>\n    </tr>\n    <tr>\n      <th>4</th>\n      <td>4.59</td>\n      <td>4.62</td>\n      <td>4.3</td>\n      <td>4.32</td>\n      <td>4.32</td>\n      <td>2219446</td>\n      <td>0.0000</td>\n      <td>1.0</td>\n      <td>2021-03-03</td>\n    </tr>\n    <tr>\n      <th>...</th>\n      <td>...</td>\n      <td>...</td>\n      <td>...</td>\n      <td>...</td>\n      <td>...</td>\n      <td>...</td>\n      <td>...</td>\n      <td>...</td>\n      <td>...</td>\n    </tr>\n    <tr>\n      <th>95</th>\n      <td>2.99</td>\n      <td>3.09</td>\n      <td>2.66</td>\n      <td>2.7301</td>\n      <td>2.7301</td>\n      <td>6170210</td>\n      <td>0.0000</td>\n      <td>1.0</td>\n      <td>2020-10-20</td>\n    </tr>\n    <tr>\n      <th>96</th>\n      <td>2.82</td>\n      <td>2.93</td>\n      <td>2.81</td>\n      <td>2.82</td>\n      <td>2.82</td>\n      <td>1863826</td>\n      <td>0.0000</td>\n      <td>1.0</td>\n      <td>2020-10-19</td>\n    </tr>\n    <tr>\n      <th>97</th>\n      <td>2.85</td>\n      <td>2.89</td>\n      <td>2.76</td>\n      <td>2.81</td>\n      <td>2.81</td>\n      <td>4500498</td>\n      <td>0.0000</td>\n      <td>1.0</td>\n      <td>2020-10-16</td>\n    </tr>\n    <tr>\n      <th>98</th>\n      <td>2.94</td>\n      <td>3.06</td>\n      <td>2.89</td>\n      <td>2.98</td>\n      <td>2.98</td>\n      <td>2922052</td>\n      <td>0.0000</td>\n      <td>1.0</td>\n      <td>2020-10-15</td>\n    </tr>\n    <tr>\n      <th>99</th>\n      <td>3.23</td>\n      <td>3.27</td>\n      <td>2.65</td>\n      <td>2.86</td>\n      <td>2.86</td>\n      <td>3657561</td>\n      <td>0.0000</td>\n      <td>1.0</td>\n      <td>2020-10-14</td>\n    </tr>\n  </tbody>\n</table>\n<p>100 rows × 9 columns</p>\n</div>"
     },
     "metadata": {},
     "execution_count": 94
    }
   ],
   "source": [
    "# notice the new index field and 'date' field\n",
    "df1"
   ]
  },
  {
   "cell_type": "code",
   "execution_count": 95,
   "metadata": {},
   "outputs": [],
   "source": [
    "df_difs = df1[['date','open','close']]"
   ]
  },
  {
   "cell_type": "code",
   "execution_count": 96,
   "metadata": {},
   "outputs": [
    {
     "output_type": "execute_result",
     "data": {
      "text/plain": [
       "          date  open   close\n",
       "0   2021-03-09   2.7    2.35\n",
       "1   2021-03-08   2.9    2.91\n",
       "2   2021-03-05   4.2    4.05\n",
       "3   2021-03-04  4.35    4.06\n",
       "4   2021-03-03  4.59    4.32\n",
       "..         ...   ...     ...\n",
       "95  2020-10-20  2.99  2.7301\n",
       "96  2020-10-19  2.82    2.82\n",
       "97  2020-10-16  2.85    2.81\n",
       "98  2020-10-15  2.94    2.98\n",
       "99  2020-10-14  3.23    2.86\n",
       "\n",
       "[100 rows x 3 columns]"
      ],
      "text/html": "<div>\n<style scoped>\n    .dataframe tbody tr th:only-of-type {\n        vertical-align: middle;\n    }\n\n    .dataframe tbody tr th {\n        vertical-align: top;\n    }\n\n    .dataframe thead th {\n        text-align: right;\n    }\n</style>\n<table border=\"1\" class=\"dataframe\">\n  <thead>\n    <tr style=\"text-align: right;\">\n      <th></th>\n      <th>date</th>\n      <th>open</th>\n      <th>close</th>\n    </tr>\n  </thead>\n  <tbody>\n    <tr>\n      <th>0</th>\n      <td>2021-03-09</td>\n      <td>2.7</td>\n      <td>2.35</td>\n    </tr>\n    <tr>\n      <th>1</th>\n      <td>2021-03-08</td>\n      <td>2.9</td>\n      <td>2.91</td>\n    </tr>\n    <tr>\n      <th>2</th>\n      <td>2021-03-05</td>\n      <td>4.2</td>\n      <td>4.05</td>\n    </tr>\n    <tr>\n      <th>3</th>\n      <td>2021-03-04</td>\n      <td>4.35</td>\n      <td>4.06</td>\n    </tr>\n    <tr>\n      <th>4</th>\n      <td>2021-03-03</td>\n      <td>4.59</td>\n      <td>4.32</td>\n    </tr>\n    <tr>\n      <th>...</th>\n      <td>...</td>\n      <td>...</td>\n      <td>...</td>\n    </tr>\n    <tr>\n      <th>95</th>\n      <td>2020-10-20</td>\n      <td>2.99</td>\n      <td>2.7301</td>\n    </tr>\n    <tr>\n      <th>96</th>\n      <td>2020-10-19</td>\n      <td>2.82</td>\n      <td>2.82</td>\n    </tr>\n    <tr>\n      <th>97</th>\n      <td>2020-10-16</td>\n      <td>2.85</td>\n      <td>2.81</td>\n    </tr>\n    <tr>\n      <th>98</th>\n      <td>2020-10-15</td>\n      <td>2.94</td>\n      <td>2.98</td>\n    </tr>\n    <tr>\n      <th>99</th>\n      <td>2020-10-14</td>\n      <td>3.23</td>\n      <td>2.86</td>\n    </tr>\n  </tbody>\n</table>\n<p>100 rows × 3 columns</p>\n</div>"
     },
     "metadata": {},
     "execution_count": 96
    }
   ],
   "source": [
    "df_difs"
   ]
  },
  {
   "cell_type": "code",
   "execution_count": 101,
   "metadata": {},
   "outputs": [],
   "source": [
    "# this is computing the difference between 'open' and 'close' and putting result in the 'close' col after converting from object to numeric(float64). # otherwise math won't work\n",
    "dfn = df_difs[['open', 'close']].apply(pd.to_numeric).diff(axis=1)"
   ]
  },
  {
   "cell_type": "code",
   "execution_count": 102,
   "metadata": {},
   "outputs": [
    {
     "output_type": "execute_result",
     "data": {
      "text/plain": [
       "    open   close\n",
       "0    NaN -0.3500\n",
       "1    NaN  0.0100\n",
       "2    NaN -0.1500\n",
       "3    NaN -0.2900\n",
       "4    NaN -0.2700\n",
       "..   ...     ...\n",
       "95   NaN -0.2599\n",
       "96   NaN  0.0000\n",
       "97   NaN -0.0400\n",
       "98   NaN  0.0400\n",
       "99   NaN -0.3700\n",
       "\n",
       "[100 rows x 2 columns]"
      ],
      "text/html": "<div>\n<style scoped>\n    .dataframe tbody tr th:only-of-type {\n        vertical-align: middle;\n    }\n\n    .dataframe tbody tr th {\n        vertical-align: top;\n    }\n\n    .dataframe thead th {\n        text-align: right;\n    }\n</style>\n<table border=\"1\" class=\"dataframe\">\n  <thead>\n    <tr style=\"text-align: right;\">\n      <th></th>\n      <th>open</th>\n      <th>close</th>\n    </tr>\n  </thead>\n  <tbody>\n    <tr>\n      <th>0</th>\n      <td>NaN</td>\n      <td>-0.3500</td>\n    </tr>\n    <tr>\n      <th>1</th>\n      <td>NaN</td>\n      <td>0.0100</td>\n    </tr>\n    <tr>\n      <th>2</th>\n      <td>NaN</td>\n      <td>-0.1500</td>\n    </tr>\n    <tr>\n      <th>3</th>\n      <td>NaN</td>\n      <td>-0.2900</td>\n    </tr>\n    <tr>\n      <th>4</th>\n      <td>NaN</td>\n      <td>-0.2700</td>\n    </tr>\n    <tr>\n      <th>...</th>\n      <td>...</td>\n      <td>...</td>\n    </tr>\n    <tr>\n      <th>95</th>\n      <td>NaN</td>\n      <td>-0.2599</td>\n    </tr>\n    <tr>\n      <th>96</th>\n      <td>NaN</td>\n      <td>0.0000</td>\n    </tr>\n    <tr>\n      <th>97</th>\n      <td>NaN</td>\n      <td>-0.0400</td>\n    </tr>\n    <tr>\n      <th>98</th>\n      <td>NaN</td>\n      <td>0.0400</td>\n    </tr>\n    <tr>\n      <th>99</th>\n      <td>NaN</td>\n      <td>-0.3700</td>\n    </tr>\n  </tbody>\n</table>\n<p>100 rows × 2 columns</p>\n</div>"
     },
     "metadata": {},
     "execution_count": 102
    }
   ],
   "source": [
    "dfn"
   ]
  },
  {
   "cell_type": "code",
   "execution_count": null,
   "metadata": {},
   "outputs": [],
   "source": []
  }
 ]
}