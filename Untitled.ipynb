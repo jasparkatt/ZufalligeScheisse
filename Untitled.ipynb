{
 "cells": [
  {
   "cell_type": "markdown",
   "id": "rental-token",
   "metadata": {},
   "source": [
    "###### Create a choropleth map in altair using some fishing data"
   ]
  },
  {
   "cell_type": "code",
   "execution_count": null,
   "id": "radio-sterling",
   "metadata": {},
   "outputs": [],
   "source": [
    "# imports\n",
    "import sys,os\n",
    "import geopandas as gpd\n",
    "import pandas as pd\n",
    "import requests\n",
    "import altair as alt\n",
    "from altair.expr import datum\n",
    "import psycopg2\n",
    "from os import environ, path\n",
    "from dotenv import load_dotenv\n",
    "from settings import *\n",
    "#from jupyter_datatables import init_datatables_mode"
   ]
  },
  {
   "cell_type": "code",
   "execution_count": null,
   "id": "decent-communication",
   "metadata": {},
   "outputs": [],
   "source": [
    "# Get versions and locations\n",
    "print(f'Your Geopandas Version: {gpd.__version__}')\n",
    "print(f'Your Psycopg2 Version: {psycopg2.__version__}')\n",
    "print(f'Your Altair Version: {alt.__version__}')\n",
    "print(f'Your Pandas Version: {pd.__version__}')\n",
    "print(f'Your Requests Version: {requests.__version__}')\n",
    "print(f'Using Virtualenv: {os.getenv(\"CONDA_ENV\")}')\n",
    "print(f'With Python Executable: {sys.executable}')\n",
    "print(f'And Python Version: {sys.version}')"
   ]
  },
  {
   "cell_type": "code",
   "execution_count": null,
   "id": "strong-vault",
   "metadata": {},
   "outputs": [],
   "source": [
    "alt.renderers.enable('default')\n",
    "#init_datatables_mode()"
   ]
  },
  {
   "cell_type": "code",
   "execution_count": null,
   "id": "ordinary-summer",
   "metadata": {},
   "outputs": [],
   "source": [
    "# make a connection to my postgres db on local and create the cursor to grab some data\n",
    "con = psycopg2.connect(database=PG_NAME, user=PG_USER, password=PG_PASSWORD, host=PG_HOST, port=PG_PORT)\n",
    "cursor = con.cursor()"
   ]
  },
  {
   "cell_type": "code",
   "execution_count": null,
   "id": "compact-baptist",
   "metadata": {},
   "outputs": [],
   "source": [
    "# QA/QC...remove\n",
    "print (con)"
   ]
  },
  {
   "cell_type": "code",
   "execution_count": null,
   "id": "processed-european",
   "metadata": {},
   "outputs": [],
   "source": [
    "# grab data from pg db table 'all_spots'\n",
    "cursor.execute(\"select stream, county, species from all_spots order by county asc\")"
   ]
  },
  {
   "cell_type": "code",
   "execution_count": null,
   "id": "coral-vampire",
   "metadata": {},
   "outputs": [],
   "source": [
    "results = cursor.fetchall()"
   ]
  },
  {
   "cell_type": "code",
   "execution_count": null,
   "id": "common-immigration",
   "metadata": {},
   "outputs": [],
   "source": [
    "# QA/QC....remove\n",
    "results"
   ]
  },
  {
   "cell_type": "code",
   "execution_count": null,
   "id": "adequate-layout",
   "metadata": {},
   "outputs": [],
   "source": [
    "# get 'results' into a pandas dataframe\n",
    "df = pd.DataFrame(data=results, columns=['stream', 'county', 'species'])"
   ]
  },
  {
   "cell_type": "code",
   "execution_count": null,
   "id": "medieval-chart",
   "metadata": {
    "require": [
     "base/js/events",
     "datatables.net",
     "d3",
     "chartjs",
     "dt-config",
     "dt-components",
     "dt-graph-objects",
     "dt-toolbar",
     "dt-tooltips",
     "jupyter-datatables"
    ]
   },
   "outputs": [],
   "source": [
    "df"
   ]
  },
  {
   "cell_type": "code",
   "execution_count": null,
   "id": "acquired-begin",
   "metadata": {},
   "outputs": [],
   "source": [
    "# some altair histogram(s)\n",
    "alt.Chart(df).mark_bar().encode(\n",
    "    alt.X(\"county:N\"),\n",
    "    y='count()',\n",
    ").properties(width=1100,height=400).interactive()"
   ]
  },
  {
   "cell_type": "code",
   "execution_count": null,
   "id": "opposed-victim",
   "metadata": {},
   "outputs": [],
   "source": [
    "# some altair histogram(s)\n",
    "alt.Chart(df).mark_bar().encode(\n",
    "    alt.X(\"stream:N\"),\n",
    "    y='count()',\n",
    ").properties(width=1100,height=400).interactive()"
   ]
  },
  {
   "cell_type": "code",
   "execution_count": null,
   "id": "polish-saskatchewan",
   "metadata": {},
   "outputs": [],
   "source": [
    "# some altair histogram(s)\n",
    "alt.Chart(df).mark_bar().encode(\n",
    "    alt.X(\"species:N\"),\n",
    "    y='count()',\n",
    ").properties(width=1100,height=400).interactive()"
   ]
  },
  {
   "cell_type": "code",
   "execution_count": null,
   "id": "terminal-complement",
   "metadata": {},
   "outputs": [],
   "source": [
    "# use geopandas(gpd) to get the data direct from my postgis enabled postgres db with the query....could also create a table to call\n",
    "sql = \"SELECT county.geom, county.id as pid, county.county_nam AS name, count(all_spots.geom) AS total FROM county LEFT JOIN all_spots ON st_contains(county.geom,all_spots.geom) GROUP BY county.county_nam, county.id ORDER BY total DESC\"\n",
    "df = gpd.GeoDataFrame.from_postgis(sql, con) "
   ]
  },
  {
   "cell_type": "code",
   "execution_count": null,
   "id": "olive-eugene",
   "metadata": {},
   "outputs": [],
   "source": [
    "df"
   ]
  },
  {
   "cell_type": "code",
   "execution_count": null,
   "id": "vertical-biodiversity",
   "metadata": {
    "scrolled": true
   },
   "outputs": [],
   "source": [
    "# use some of the geojson props to encode with...\n",
    "alt.Chart(df).mark_geoshape(stroke='lightgray').encode(\n",
    "    alt.Color('total', \n",
    "                  type='quantitative', \n",
    "                  scale=alt.Scale(scheme='oranges'),\n",
    "                  title = \"Most Visisted\"),\n",
    "    tooltip=['name','total']\n",
    "    \n",
    ").project(\n",
    "    type='albersUsa'\n",
    ").properties(\n",
    "    width=400,\n",
    "    height=600\n",
    ")"
   ]
  },
  {
   "cell_type": "code",
   "execution_count": null,
   "id": "unauthorized-cable",
   "metadata": {},
   "outputs": [],
   "source": [
    "# do the same by watershed\n",
    "sql = \"SELECT watersheds.geom, watersheds.id as pid, watersheds.wshed_name AS name, count(all_spots.geom) AS total FROM watersheds LEFT JOIN all_spots ON st_contains(watersheds.geom,all_spots.geom) GROUP BY watersheds.wshed_name, watersheds.id ORDER BY total DESC\"\n",
    "df = gpd.GeoDataFrame.from_postgis(sql, con) "
   ]
  },
  {
   "cell_type": "code",
   "execution_count": null,
   "id": "another-newspaper",
   "metadata": {},
   "outputs": [],
   "source": [
    "# use some of the geojson props to encode with...\n",
    "alt.Chart(df).mark_geoshape(stroke='lightgray').encode(\n",
    "    alt.Color('total', \n",
    "                  type='quantitative', \n",
    "                  scale=alt.Scale(scheme='yellowgreenblue'),                                \n",
    "                  title = \"Most Visisted\"),\n",
    "    tooltip=['name','total']        \n",
    ").project(\n",
    "    type='albersUsa'\n",
    ").properties(\n",
    "    width=400,\n",
    "    height=600\n",
    ")"
   ]
  },
  {
   "cell_type": "code",
   "execution_count": null,
   "id": "latter-roommate",
   "metadata": {},
   "outputs": [],
   "source": [
    "sql_back = \"SELECT * FROM county\"\n",
    "sql_front = \"SELECT * FROM all_spots\"\n",
    "df_back = gpd.GeoDataFrame.from_postgis(sql_back, con)\n",
    "df_front = gpd.GeoDataFrame.from_postgis(sql_front, con)"
   ]
  },
  {
   "cell_type": "code",
   "execution_count": null,
   "id": "arctic-volleyball",
   "metadata": {},
   "outputs": [],
   "source": [
    "background = alt.Chart(df_back).mark_geoshape(\n",
    "    fill='lightgray',\n",
    "    stroke='white',    \n",
    ").encode(\n",
    "    tooltip = ['county_nam:N']\n",
    ")\n",
    "frontground  = alt.Chart(df_front).mark_geoshape(\n",
    "    fill = 'blue',\n",
    "    stroke = 'lightgray',\n",
    "    fillOpacity = 0.5,\n",
    "    strokeWidth = 0.5,\n",
    "    strokeOpacity = 0.5\n",
    ").encode(\n",
    "    tooltip = ['stream']\n",
    ")\n",
    "(background + frontground).properties(width=400, height=600)"
   ]
  },
  {
   "cell_type": "code",
   "execution_count": null,
   "id": "maritime-spiritual",
   "metadata": {},
   "outputs": [],
   "source": [
    "sql_troutStrm = \"SELECT geom, local_name as name, trout_clas as class, classifi_1 as class_type, length_mi FROM trout_streams WHERE trout_clas = 'CLASS I'\"\n",
    "df_troutStrm = gpd.GeoDataFrame.from_postgis(sql_troutStrm, con)"
   ]
  },
  {
   "cell_type": "code",
   "execution_count": null,
   "id": "latter-malta",
   "metadata": {},
   "outputs": [],
   "source": [
    "background = alt.Chart(df_back).mark_geoshape(\n",
    "    fill='gray',\n",
    "    fillOpacity= 0.5,\n",
    "    stroke='lightgray',    \n",
    ").encode(\n",
    "    tooltip = ['county_nam:N']\n",
    ")\n",
    "frontground  = alt.Chart(df_troutStrm).mark_geoshape(\n",
    "    fill = 'gray',\n",
    "    stroke = 'orange',\n",
    "    strokeWidth = 0.75,\n",
    "    strokeOpacity = 0.4\n",
    ").encode(\n",
    "    tooltip = ['name']\n",
    ")\n",
    "(background + frontground).properties(width=1750, height=1900)"
   ]
  },
  {
   "cell_type": "code",
   "execution_count": null,
   "id": "expired-convenience",
   "metadata": {},
   "outputs": [],
   "source": []
  }
 ],
 "metadata": {
  "kernelspec": {
   "display_name": "Python 3",
   "language": "python",
   "name": "python3"
  },
  "language_info": {
   "codemirror_mode": {
    "name": "ipython",
    "version": 3
   },
   "file_extension": ".py",
   "mimetype": "text/x-python",
   "name": "python",
   "nbconvert_exporter": "python",
   "pygments_lexer": "ipython3",
   "version": "3.7.10"
  },
  "require": {
   "paths": {
    "buttons.colvis": "https://cdn.datatables.net/buttons/1.5.6/js/buttons.colVis.min",
    "buttons.flash": "https://cdn.datatables.net/buttons/1.5.6/js/buttons.flash.min",
    "buttons.html5": "https://cdn.datatables.net/buttons/1.5.6/js/buttons.html5.min",
    "buttons.print": "https://cdn.datatables.net/buttons/1.5.6/js/buttons.print.min",
    "chartjs": "https://cdnjs.cloudflare.com/ajax/libs/Chart.js/2.8.0/Chart",
    "d3": "https://d3js.org/d3.v5.min",
    "d3-array": "https://d3js.org/d3-array.v2.min",
    "datatables.net": "https://cdn.datatables.net/1.10.18/js/jquery.dataTables",
    "datatables.net-buttons": "https://cdn.datatables.net/buttons/1.5.6/js/dataTables.buttons.min",
    "datatables.responsive": "https://cdn.datatables.net/responsive/2.2.2/js/dataTables.responsive.min",
    "datatables.scroller": "https://cdn.datatables.net/scroller/2.0.0/js/dataTables.scroller.min",
    "datatables.select": "https://cdn.datatables.net/select/1.3.0/js/dataTables.select.min",
    "jszip": "https://cdnjs.cloudflare.com/ajax/libs/jszip/2.5.0/jszip.min",
    "moment": "https://cdnjs.cloudflare.com/ajax/libs/moment.js/2.8.0/moment",
    "pdfmake": "https://cdnjs.cloudflare.com/ajax/libs/pdfmake/0.1.36/pdfmake.min",
    "vfsfonts": "https://cdnjs.cloudflare.com/ajax/libs/pdfmake/0.1.36/vfs_fonts"
   },
   "shim": {
    "buttons.colvis": {
     "deps": [
      "jszip",
      "datatables.net-buttons"
     ]
    },
    "buttons.flash": {
     "deps": [
      "jszip",
      "datatables.net-buttons"
     ]
    },
    "buttons.html5": {
     "deps": [
      "jszip",
      "datatables.net-buttons"
     ]
    },
    "buttons.print": {
     "deps": [
      "jszip",
      "datatables.net-buttons"
     ]
    },
    "chartjs": {
     "deps": [
      "moment"
     ]
    },
    "datatables.net": {
     "exports": "$.fn.dataTable"
    },
    "datatables.net-buttons": {
     "deps": [
      "datatables.net"
     ]
    },
    "pdfmake": {
     "deps": [
      "datatables.net"
     ]
    },
    "vfsfonts": {
     "deps": [
      "datatables.net"
     ]
    }
   }
  }
 },
 "nbformat": 4,
 "nbformat_minor": 5
}